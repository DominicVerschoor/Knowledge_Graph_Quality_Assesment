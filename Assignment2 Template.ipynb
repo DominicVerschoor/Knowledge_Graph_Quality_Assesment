{
  "cells": [
    {
      "cell_type": "markdown",
      "metadata": {},
      "source": [
        "# 📘 KG course SPARQL notebook\n",
        "\n",
        "A notebook to run SPARQL queries for the KG course at UM DACS.\n",
        "\n",
        "1. Update the `g.parse()` calls in the first cell to import your RDF files.\n",
        "2. In the same folder as the notebook create files with your SPARQL queries (e.g. `q1.rq`), and execute them with `run_query(g, 'q1.rq')`\n",
        "\n",
        "Use the `.rq` file extension to get SPARQL syntax coloration"
      ]
    },
    {
      "cell_type": "code",
      "execution_count": null,
      "metadata": {},
      "outputs": [],
      "source": [
        "import sys\n",
        "!{sys.executable} -m pip install pandas oxrdflib Pygments\n",
        "\n",
        "import pandas as pd\n",
        "from IPython.display import display, HTML\n",
        "from pygments import highlight\n",
        "from pygments.lexers import SparqlLexer\n",
        "from pygments.formatters import HtmlFormatter\n",
        "from rdflib import Graph\n",
        "\n",
        "def run_query(graph, query_path):\n",
        "    try:\n",
        "        with open(query_path, 'r') as file:\n",
        "            query = file.read()\n",
        "    except Exception as _e:\n",
        "        print(f\"No file for {query_path}\")\n",
        "        return\n",
        "    results = graph.query(query)\n",
        "    # Display the SPARQL query\n",
        "    formatted_query = highlight(query, SparqlLexer(), HtmlFormatter(style='solarized-dark', full=True, nobackground=True))\n",
        "    display(HTML(formatted_query))\n",
        "    # Convert results to a Pandas DataFrame\n",
        "    res_list = []\n",
        "    for row in results:\n",
        "        res_list.append([str(item) for item in row])\n",
        "    df = pd.DataFrame(res_list, columns=[str(var) for var in results.vars]) if len(res_list) > 0 else pd.DataFrame()\n",
        "    # Display the DataFrame as a table in Jupyter Notebook\n",
        "    display(HTML(df.to_html()))\n",
        "\n",
        "g = Graph(store=\"Oxigraph\")\n",
        "\n",
        "# TODO: modify/add paths to your RDF files\n",
        "g.parse(\"./food_kg_altered.ttl\")\n",
        "\n",
        "print(f\"Working with {len(g)} triples\")"
      ]
    },
    {
      "cell_type": "markdown",
      "metadata": {},
      "source": [
        "1. Identify one type of quality check different than above, write and run SPARQL to implement the check and return the violating entities."
      ]
    },
    {
      "cell_type": "code",
      "execution_count": null,
      "metadata": {},
      "outputs": [],
      "source": [
        "run_query(g, 'q1.rq')"
      ]
    },
    {
      "cell_type": "markdown",
      "metadata": {},
      "source": [
        "2. Identify a second type of quality check different than above, write and run SPARQL to implement the check and return the violating entities."
      ]
    },
    {
      "cell_type": "code",
      "execution_count": null,
      "metadata": {},
      "outputs": [],
      "source": [
        "run_query(g, 'q2.rq')"
      ]
    },
    {
      "cell_type": "markdown",
      "metadata": {},
      "source": [
        "3. Identify a third type of quality check different than above, write and run SPARQL to implement the check and return the violating entities."
      ]
    },
    {
      "cell_type": "code",
      "execution_count": null,
      "metadata": {},
      "outputs": [],
      "source": [
        "run_query(g, 'q3.rq')"
      ]
    },
    {
      "cell_type": "markdown",
      "metadata": {},
      "source": [
        "4. Identify a forth type of quality check different than above, write and run SPARQL to implement the check and return the violating entities."
      ]
    },
    {
      "cell_type": "code",
      "execution_count": null,
      "metadata": {},
      "outputs": [],
      "source": [
        "run_query(g, 'q4.rq')"
      ]
    },
    {
      "cell_type": "markdown",
      "metadata": {},
      "source": [
        "5. Identify a fifth type of quality check different than above, write and run SPARQL to implement the check and return the violating entities."
      ]
    },
    {
      "cell_type": "code",
      "execution_count": null,
      "metadata": {},
      "outputs": [],
      "source": [
        "run_query(g, 'q5.rq')"
      ]
    },
    {
      "cell_type": "markdown",
      "metadata": {},
      "source": [
        "6. Identify a sixth type of quality check different than above, write and run SPARQL to implement the check and return the violating entities."
      ]
    },
    {
      "cell_type": "code",
      "execution_count": null,
      "metadata": {},
      "outputs": [],
      "source": [
        "run_query(g, 'q6.rq')"
      ]
    },
    {
      "cell_type": "markdown",
      "metadata": {},
      "source": [
        "7. Identify a seventh type of quality check different than above, write and run SPARQL to implement the check and return the violating entities."
      ]
    },
    {
      "cell_type": "code",
      "execution_count": null,
      "metadata": {},
      "outputs": [],
      "source": [
        "run_query(g, 'q7.rq')"
      ]
    },
    {
      "cell_type": "markdown",
      "metadata": {},
      "source": [
        "8. Identify an eighth type of quality check different than above, write and run SPARQL to implement the check and return the violating entities."
      ]
    },
    {
      "cell_type": "code",
      "execution_count": null,
      "metadata": {},
      "outputs": [],
      "source": [
        "run_query(g, 'q8.rq')"
      ]
    },
    {
      "cell_type": "markdown",
      "metadata": {},
      "source": [
        "9. Identify a seventh type of quality check different than above, write and run SPARQL to implement the check and return the violating entities."
      ]
    },
    {
      "cell_type": "code",
      "execution_count": null,
      "metadata": {},
      "outputs": [],
      "source": [
        "run_query(g, 'q9.rq')"
      ]
    },
    {
      "cell_type": "markdown",
      "metadata": {},
      "source": [
        "10. Identify a final type of quality check different than above, write and run SPARQL to implement the check and return the violating entities."
      ]
    },
    {
      "cell_type": "code",
      "execution_count": null,
      "metadata": {},
      "outputs": [],
      "source": [
        "run_query(g, 'q10.rq')"
      ]
    }
  ],
  "metadata": {
    "colab": {
      "provenance": []
    },
    "kernelspec": {
      "display_name": "AIDAVA",
      "language": "python",
      "name": "python3"
    },
    "language_info": {
      "codemirror_mode": {
        "name": "ipython",
        "version": 3
      },
      "file_extension": ".py",
      "mimetype": "text/x-python",
      "name": "python",
      "nbconvert_exporter": "python",
      "pygments_lexer": "ipython3",
      "version": "3.9.16"
    }
  },
  "nbformat": 4,
  "nbformat_minor": 0
}
